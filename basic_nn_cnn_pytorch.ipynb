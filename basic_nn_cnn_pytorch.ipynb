{
  "nbformat": 4,
  "nbformat_minor": 0,
  "metadata": {
    "colab": {
      "name": "basic_nn_pytorch",
      "provenance": [],
      "authorship_tag": "ABX9TyMqqHw8djAtV8bSy107XoOb",
      "include_colab_link": true
    },
    "kernelspec": {
      "name": "python3",
      "display_name": "Python 3"
    },
    "language_info": {
      "name": "python"
    }
  },
  "cells": [
    {
      "cell_type": "markdown",
      "metadata": {
        "id": "view-in-github",
        "colab_type": "text"
      },
      "source": [
        "<a href=\"https://colab.research.google.com/github/xoro-o/nn_baisc/blob/main/basic_nn_cnn_pytorch.ipynb\" target=\"_parent\"><img src=\"https://colab.research.google.com/assets/colab-badge.svg\" alt=\"Open In Colab\"/></a>"
      ]
    },
    {
      "cell_type": "code",
      "execution_count": null,
      "metadata": {
        "id": "_RAknLJpdlJl"
      },
      "outputs": [],
      "source": [
        " # Imports  \n",
        " import torch\n",
        " import torch.nn as nn\n",
        " import torch.optim as optim # sgd adam etc\n",
        " import torch.nn.functional as F # all function which dont take parameters such as ReLU \n",
        " from torch.utils.data import DataLoader\n",
        " import torchvision.datasets as datasets\n",
        " import torchvision.transforms as transforms\n",
        " "
      ]
    },
    {
      "cell_type": "code",
      "source": [
        "class NN(nn.Module):\n",
        "  def __init__(self,input_size,num_classes):\n",
        "    super(NN,self).__init__() \n",
        "    self.fc1 = nn.Linear(input_size,50)\n",
        "    self.fc2 = nn.Linear(50,num_classes)\n",
        "\n",
        "  def forward(self,x):\n",
        "    x =   F.relu(self.fc1(x))\n",
        "    x = self.fc2(x)\n",
        "    return x\n",
        "\n",
        "\n",
        "model = NN(784,10)\n",
        "x = torch.randn(64,784)\n",
        "print(model(x).shape)\n",
        "\n"
      ],
      "metadata": {
        "id": "omjvAbAWgWEj",
        "colab": {
          "base_uri": "https://localhost:8080/"
        },
        "outputId": "3aef04c3-35cc-4a85-c9b0-3c0dab44fd41"
      },
      "execution_count": 19,
      "outputs": [
        {
          "output_type": "stream",
          "name": "stdout",
          "text": [
            "torch.Size([64, 10])\n"
          ]
        }
      ]
    },
    {
      "cell_type": "code",
      "source": [
        "class CNN(nn.Module):\n",
        "  def __init__(self,in_channels = 1,num_classes = 10):\n",
        "    super(CNN,self).__init__()\n",
        "    self.conv1 = nn.Conv2d(in_channels = in_channels,out_channels = 8,kernel_size = 3,stride=1,padding='same')\n",
        "    self.pool1 = nn.MaxPool2d(kernel_size = 2,stride = 2)\n",
        "    self.conv2 = nn.Conv2d(in_channels = 8,out_channels = 16,kernel_size = 3,stride=1,padding='same')\n",
        "    self.fc1 = nn.Linear(16*7*7,num_classes)\n",
        "  \n",
        "  def forward(self,x):\n",
        "    x = F.relu(self.conv1(x))\n",
        "    x = self.pool1(x)\n",
        "    x = F.relu(self.conv2(x))\n",
        "    x = self.pool1(x)\n",
        "    x = x.reshape(x.shape[0],-1)\n",
        "    x = self.fc1(x)\n",
        "    return x\n",
        "\n",
        "\n",
        "\n",
        "model = CNN(1,10)\n",
        "x = torch.randn(64,1,28,28)\n",
        "print(model(x).shape)"
      ],
      "metadata": {
        "colab": {
          "base_uri": "https://localhost:8080/"
        },
        "id": "j8bQpjKa19Mt",
        "outputId": "11541d69-9a42-415b-a6ea-224e35e55942"
      },
      "execution_count": 20,
      "outputs": [
        {
          "output_type": "stream",
          "name": "stdout",
          "text": [
            "torch.Size([64, 10])\n"
          ]
        }
      ]
    },
    {
      "cell_type": "code",
      "source": [
        "# set device \n",
        "device = torch.device(\"cuda\" if torch.cuda.is_available() else \"cpu\")\n",
        "\n",
        "#hyperparameters\n",
        "input_size = 784\n",
        "num_classes = 10\n",
        "learning_rate = 0.001\n",
        "batch_size = 64\n",
        "num_epochs =  1\n"
      ],
      "metadata": {
        "id": "c-uWn7-2iklE"
      },
      "execution_count": 21,
      "outputs": []
    },
    {
      "cell_type": "code",
      "source": [
        "# Load data\n",
        "train_dataset = datasets.MNIST(root='dataset/',train=True,transform = transforms.ToTensor(),download=True)\n",
        "train_loader = DataLoader(dataset = train_dataset,batch_size = batch_size,shuffle=True)\n",
        "test_dataset = datasets.MNIST(root='dataset/',train=False,transform = transforms.ToTensor(),download=True)\n",
        "test_loader = DataLoader(dataset = test_dataset,batch_size = batch_size,shuffle=True)\n"
      ],
      "metadata": {
        "id": "RyUajYbijmx-"
      },
      "execution_count": 22,
      "outputs": []
    },
    {
      "cell_type": "code",
      "source": [
        "# initialize network\n",
        "model = CNN().to(device)\n",
        "loss_fn = nn.CrossEntropyLoss()\n",
        "optimizer = optim.Adam(model.parameters(),lr=learning_rate)\n",
        "\n"
      ],
      "metadata": {
        "id": "ubAoKycAkWSF"
      },
      "execution_count": 23,
      "outputs": []
    },
    {
      "cell_type": "code",
      "source": [
        "#train network\n",
        "for epoch in range(num_epochs):\n",
        "  for batch,(data, target) in enumerate(train_loader):\n",
        "    data = data.to(device=device)\n",
        "    target = target.to(device=device)\n",
        "\n",
        "    \n",
        "    pred = model(data)\n",
        "    loss = loss_fn(pred,target)\n",
        "\n",
        "    \n",
        "    optimizer.zero_grad()\n",
        "    loss.backward()\n",
        "\n",
        "    optimizer.step()\n",
        "    \n",
        "    \n"
      ],
      "metadata": {
        "id": "QYcDNo_IktbE"
      },
      "execution_count": 25,
      "outputs": []
    },
    {
      "cell_type": "code",
      "source": [
        "def check_accuracy(loader,model):\n",
        "  num_correct = 0\n",
        "  num_sample = 0 \n",
        "  model.eval()\n",
        "  with torch.no_grad():\n",
        "    for x,y in loader:\n",
        "      x = x.to(device=device)\n",
        "      y=y.to(device=device)\n",
        "      \n",
        "\n",
        "      scores = model(x)\n",
        "      _,pred = scores.max(dim=1)\n",
        "      num_correct += (pred==y).sum()\n",
        "      num_sample += pred.size(0)\n",
        "    print(f'accuracy = {float(num_correct)/float(num_sample)*100:.2f}')"
      ],
      "metadata": {
        "id": "QWfau4WElEAn"
      },
      "execution_count": 29,
      "outputs": []
    },
    {
      "cell_type": "code",
      "source": [
        "check_accuracy(test_loader,model)"
      ],
      "metadata": {
        "colab": {
          "base_uri": "https://localhost:8080/"
        },
        "id": "xoOpx5WLnE1Z",
        "outputId": "73308855-ac28-4998-cdfa-c3d1aa6753a0"
      },
      "execution_count": 30,
      "outputs": [
        {
          "output_type": "stream",
          "name": "stdout",
          "text": [
            "accuracy = 97.12\n"
          ]
        }
      ]
    },
    {
      "cell_type": "code",
      "source": [
        ""
      ],
      "metadata": {
        "id": "9_mGf5KynY-h"
      },
      "execution_count": null,
      "outputs": []
    }
  ]
}